{
 "cells": [
  {
   "cell_type": "code",
   "execution_count": 1,
   "id": "9415ba34",
   "metadata": {},
   "outputs": [
    {
     "name": "stderr",
     "output_type": "stream",
     "text": [
      "[nltk_data] Downloading package punkt to\n",
      "[nltk_data]     C:\\Users\\bvadu\\AppData\\Roaming\\nltk_data...\n",
      "[nltk_data]   Package punkt is already up-to-date!\n",
      "[nltk_data] Downloading package vader_lexicon to\n",
      "[nltk_data]     C:\\Users\\bvadu\\AppData\\Roaming\\nltk_data...\n",
      "[nltk_data]   Package vader_lexicon is already up-to-date!\n"
     ]
    },
    {
     "name": "stdout",
     "output_type": "stream",
     "text": [
      "Imports Done\n"
     ]
    }
   ],
   "source": [
    "import numpy as np\n",
    "import pandas as pd\n",
    "import spacy\n",
    "import nltk\n",
    "nltk.download('punkt')\n",
    "nltk.download('vader_lexicon')\n",
    "import seaborn as sns\n",
    "import time\n",
    "import matplotlib.pyplot as plt\n",
    "\n",
    "from nltk.tag import StanfordNERTagger\n",
    "from nltk.tokenize import word_tokenize\n",
    "from nltk.sentiment.vader import SentimentIntensityAnalyzer\n",
    "\n",
    "print(\"Imports Done\")"
   ]
  },
  {
   "cell_type": "code",
   "execution_count": 2,
   "id": "f83eb3ed",
   "metadata": {},
   "outputs": [],
   "source": [
    "sid = SentimentIntensityAnalyzer()"
   ]
  },
  {
   "cell_type": "code",
   "execution_count": 3,
   "id": "4f57bfb5",
   "metadata": {},
   "outputs": [
    {
     "name": "stdout",
     "output_type": "stream",
     "text": [
      "Read csv with chunks:  0.008138895034790039 sec\n"
     ]
    },
    {
     "data": {
      "text/html": [
       "<div>\n",
       "<style scoped>\n",
       "    .dataframe tbody tr th:only-of-type {\n",
       "        vertical-align: middle;\n",
       "    }\n",
       "\n",
       "    .dataframe tbody tr th {\n",
       "        vertical-align: top;\n",
       "    }\n",
       "\n",
       "    .dataframe thead th {\n",
       "        text-align: right;\n",
       "    }\n",
       "</style>\n",
       "<table border=\"1\" class=\"dataframe\">\n",
       "  <thead>\n",
       "    <tr style=\"text-align: right;\">\n",
       "      <th></th>\n",
       "      <th>Id</th>\n",
       "      <th>StateAbbr</th>\n",
       "      <th>QuestionUno</th>\n",
       "      <th>PostText</th>\n",
       "      <th>CreatedUtc</th>\n",
       "    </tr>\n",
       "  </thead>\n",
       "  <tbody>\n",
       "    <tr>\n",
       "      <th>0</th>\n",
       "      <td>1</td>\n",
       "      <td>AK</td>\n",
       "      <td>B7C95D50-6C81-4E61-BC16-81077B7D3F7E</td>\n",
       "      <td>Do you still need help with this issue?  It ha...</td>\n",
       "      <td>2018-04-25 18:09:30</td>\n",
       "    </tr>\n",
       "    <tr>\n",
       "      <th>1</th>\n",
       "      <td>2</td>\n",
       "      <td>AK</td>\n",
       "      <td>C579CE49-6B7A-44E7-A203-5D3E52623804</td>\n",
       "      <td>Anyone?</td>\n",
       "      <td>2018-04-17 21:15:28</td>\n",
       "    </tr>\n",
       "    <tr>\n",
       "      <th>2</th>\n",
       "      <td>3</td>\n",
       "      <td>AK</td>\n",
       "      <td>F3A78AD3-D3D4-447F-BEAF-F62F1D1D4CCE</td>\n",
       "      <td>Yes, those are the right forms.  I'm sorry, I ...</td>\n",
       "      <td>2018-04-18 17:51:41</td>\n",
       "    </tr>\n",
       "    <tr>\n",
       "      <th>3</th>\n",
       "      <td>4</td>\n",
       "      <td>AK</td>\n",
       "      <td>5F8506D3-D9F1-48EE-8081-D30259DBF4E8</td>\n",
       "      <td>Hi ###,You do make some good points.  The diff...</td>\n",
       "      <td>2018-04-18 22:15:44</td>\n",
       "    </tr>\n",
       "    <tr>\n",
       "      <th>4</th>\n",
       "      <td>5</td>\n",
       "      <td>AK</td>\n",
       "      <td>B4C814C9-8983-413F-8BC4-F2BE01665555</td>\n",
       "      <td>My father passed away and I have DNA test resu...</td>\n",
       "      <td>2018-04-12 10:52:50</td>\n",
       "    </tr>\n",
       "  </tbody>\n",
       "</table>\n",
       "</div>"
      ],
      "text/plain": [
       "  Id StateAbbr                           QuestionUno  \\\n",
       "0  1        AK  B7C95D50-6C81-4E61-BC16-81077B7D3F7E   \n",
       "1  2        AK  C579CE49-6B7A-44E7-A203-5D3E52623804   \n",
       "2  3        AK  F3A78AD3-D3D4-447F-BEAF-F62F1D1D4CCE   \n",
       "3  4        AK  5F8506D3-D9F1-48EE-8081-D30259DBF4E8   \n",
       "4  5        AK  B4C814C9-8983-413F-8BC4-F2BE01665555   \n",
       "\n",
       "                                            PostText           CreatedUtc  \n",
       "0  Do you still need help with this issue?  It ha...  2018-04-25 18:09:30  \n",
       "1                                            Anyone?  2018-04-17 21:15:28  \n",
       "2  Yes, those are the right forms.  I'm sorry, I ...  2018-04-18 17:51:41  \n",
       "3  Hi ###,You do make some good points.  The diff...  2018-04-18 22:15:44  \n",
       "4  My father passed away and I have DNA test resu...  2018-04-12 10:52:50  "
      ]
     },
     "execution_count": 3,
     "metadata": {},
     "output_type": "execute_result"
    }
   ],
   "source": [
    "start = time.time()\n",
    "chunk = pd.read_csv('data/questionposts.csv', chunksize=10000, on_bad_lines='skip')\n",
    "end = time.time()\n",
    "print(\"Read csv with chunks: \",(end-start),\"sec\")\n",
    "question_df = pd.concat(chunk)\n",
    "\n",
    "question_df.head()"
   ]
  },
  {
   "cell_type": "code",
   "execution_count": null,
   "id": "065a1b4c",
   "metadata": {
    "scrolled": true
   },
   "outputs": [],
   "source": [
    "posttext = question_df[\"PostText\"]\n",
    "text_tokens = []\n",
    "ner_tagged_text = []\n",
    "\n",
    "#st = StanfordNERTagger('/usr/share/stanford-ner/classifiers/english.all.3class.distsim.crf.ser.gz', '/usr/share/stanford-ner/stanford-ner.jar', encoding='utf-8')\n",
    "\n",
    "for item in posttext:\n",
    "    try:\n",
    "        tokenized_text = word_tokenize(item)\n",
    "        text_tokens.append(tokenized_text)\n",
    "    except:\n",
    "        pass\n",
    "    #tagged_text = st.tag(tokenized_text)\n",
    "    #ner_tagged_text.append(tagged_text)\n",
    "    \n",
    "\n",
    "print(text_tokens[:10])\n",
    "#print(ner_tagged_text[:10])\n",
    "    "
   ]
  },
  {
   "cell_type": "code",
   "execution_count": null,
   "id": "1468c97c",
   "metadata": {},
   "outputs": [],
   "source": [
    "posttext = question_df[\"PostText\"]\n",
    "sentiment_scores = []\n",
    "i = 0\n",
    "for item in posttext:\n",
    "    item = str(item)\n",
    "    ss = sid.polarity_scores(item)\n",
    "    sentiment_scores.append(ss)\n",
    "    i += 1\n",
    "    if (i % 1000 == 0):\n",
    "        print(i)\n",
    "print(sentiment[:10])"
   ]
  },
  {
   "cell_type": "code",
   "execution_count": null,
   "id": "584a6867",
   "metadata": {},
   "outputs": [],
   "source": [
    "print(sentiment_scores[:10])"
   ]
  },
  {
   "cell_type": "code",
   "execution_count": null,
   "id": "fd6b4530",
   "metadata": {},
   "outputs": [],
   "source": [
    "compound_scores = []\n",
    "for summary in sentiment_scores:\n",
    "    compound_scores.append(summary['compound'])"
   ]
  },
  {
   "cell_type": "code",
   "execution_count": null,
   "id": "d5cb7ce9",
   "metadata": {},
   "outputs": [],
   "source": [
    "sns.histplot(compound_scores)\n",
    "plt.xlabel(\"Sentiment\")\n",
    "plt.ylabel(\"Count\")\n",
    "plt.title(\"Sentiment of Questions\")\n",
    "plt.savefig(\"figures/QuestionSentiments.png\")\n",
    "plt.show()"
   ]
  },
  {
   "cell_type": "code",
   "execution_count": 5,
   "id": "3bcb00e9",
   "metadata": {},
   "outputs": [
    {
     "name": "stdout",
     "output_type": "stream",
     "text": [
      "10000\n",
      "20000\n",
      "30000\n",
      "40000\n",
      "50000\n",
      "60000\n",
      "70000\n",
      "80000\n",
      "90000\n",
      "100000\n",
      "110000\n",
      "120000\n",
      "130000\n",
      "140000\n",
      "150000\n",
      "160000\n",
      "170000\n",
      "180000\n",
      "190000\n",
      "200000\n",
      "210000\n",
      "220000\n",
      "230000\n",
      "240000\n",
      "250000\n",
      "260000\n",
      "270000\n",
      "280000\n",
      "290000\n",
      "300000\n",
      "310000\n",
      "320000\n",
      "330000\n",
      "340000\n",
      "350000\n",
      "360000\n",
      "370000\n",
      "380000\n",
      "390000\n"
     ]
    }
   ],
   "source": [
    "posttext = question_df[\"PostText\"]\n",
    "processed_text = []\n",
    "i = 0\n",
    "for item in posttext:\n",
    "    processed_text.append(word_tokenize(str(item)))\n",
    "    i += 1\n",
    "    \n",
    "    if (i % 10000 == 0):\n",
    "        print(i)\n",
    "    "
   ]
  },
  {
   "cell_type": "code",
   "execution_count": 8,
   "id": "8c257264",
   "metadata": {},
   "outputs": [
    {
     "name": "stderr",
     "output_type": "stream",
     "text": [
      "[nltk_data] Downloading package stopwords to\n",
      "[nltk_data]     C:\\Users\\bvadu\\AppData\\Roaming\\nltk_data...\n",
      "[nltk_data]   Unzipping corpora\\stopwords.zip.\n"
     ]
    }
   ],
   "source": [
    "nltk.download(\"stopwords\")\n",
    "from nltk.corpus import stopwords\n",
    "stopwords = stopwords.words('english')\n",
    "\n",
    "from string import punctuation\n",
    "\n",
    "punctuation = list(punctuation)"
   ]
  },
  {
   "cell_type": "code",
   "execution_count": 9,
   "id": "febf0530",
   "metadata": {},
   "outputs": [
    {
     "name": "stdout",
     "output_type": "stream",
     "text": [
      "[['Do', 'still', 'need', 'help', 'issue', 'It', 'little', 'since', 'posted'], ['Anyone'], ['Yes', 'right', 'forms', 'I', \"'m\", 'sorry', 'I', \"n't\", 'get', 'notification', 'question', 'today', 'I', \"'m\", 'going', 'check', 'system'], ['Hi', 'You', 'make', 'good', 'points', 'The', 'difference', 'stocks', 'bonds', 'banks', 'regulated', 'Federal', 'government', 'Securities', 'Exchange', 'Commission', 'They', 'follow', 'stringent', 'Federal', 'regulations', 'If', 'wanted', 'make', 'arguments', 'judge', 'would', 'But', 'I', 'would', 'advise', \"'s\", 'better', 'position', 'If', 'avoid', 'changing', 'say', 'would', \"n't\", 'No', 'one', 'holding', 'gun', 'head', 'making', 'play', 'game', 'spend', 'money', 'say', 'remarks', 'You', 'always', 'opt', 'find', 'different', 'forum', 'express', 'Or', 'could', 'decide', 'invest', 'money', 'game', 'think', \"'s\", 'risky', 'investment'], ['My', 'father', 'passed', 'away', 'I', 'DNA', 'test', 'results', 'one', 'sisters', 'I', 'would', 'like', 'inherit', 'native', 'dividend', 'birth', 'certificate', 'way', 'get', 'proof', 'biological', 'father', 'I', 'get', 'native', 'dividend'], ['I', 'called', 'T-Mobile', 'asked', 'get', 'copy', 'threatening', 'text', 'messages', 'sent', 'Oct.', \"'t\", 'keep', 'text', 'messages', 'file', 'Do', \"n't\", 'law', 'I', 'feeling', 'fabrication'], ['They', 'correct', 'Most', 'providers', 'save', 'content', 'text', 'messages', 'sent', 'recieved', 'customers', 'There', 'law', 'requires', 'They', 'may', 'time', 'date', 'texts', 'sent', 'ed', 'If', 'pay', 'text', 'message', 'probably', 'information', 'If', 'pay', 'fee', 'unlimited', 'texts', 'probably', 'saved', 'T-Mobile', 'might', 'tower', 'location', 'information', 'customer', 'texting', 'Usually', 'tower', 'location', 'information', 'available', 'subpoena', 'technical', 'would', 'need', 'expert', 'witness', 'analyze', 'data', 'The', 'practical', 'way', 'get', 'copy', 'content', 'text', 'message', 'see', 'saved', 'phone', 'sent', 'recieved', 'Do', 'saved', 'phone', 'If', 'take', 'screenshot', 'print', 'preserve', 'Printed', 'copies', 'entered', 'evidence', 'court', 'You', 'could', 'also', 'try', 'subpoena', 'phone', 'person', 'sent', 'may', 'delete', 'Good', 'luck'], ['Okay', 'thank-you', 'much', 'clarification'], ['The', 'car', 'got', 'impounded', 'threatened', 'What'], ['I', \"'m\", 'trying', 'register', 'box', 'truck', 'motorhome', 'I', 'know', 'possible', 'done', 'others', 'DMV', 'said', 'wo', \"n't\", 'allow', 'vehicle', 'weighs', '10', 'The', 'relevant', 'statute', 'AS', \"n't\", 'say', 'anything', 'weight', 'motor', 'home', 'So', 'I', 'get', 'registered']]\n"
     ]
    }
   ],
   "source": [
    "cleaned_text = []\n",
    "for sent in processed_text:\n",
    "    new_sent = []\n",
    "    for word in sent:\n",
    "        if word not in stopwords and word not in punctuation:\n",
    "            new_sent.append(word)\n",
    "    \n",
    "    cleaned_text.append(new_sent)\n",
    "\n",
    "print(cleaned_text[:10])"
   ]
  },
  {
   "cell_type": "code",
   "execution_count": 14,
   "id": "d5f66aff",
   "metadata": {},
   "outputs": [
    {
     "name": "stderr",
     "output_type": "stream",
     "text": [
      "[nltk_data] Downloading package wordnet to\n",
      "[nltk_data]     C:\\Users\\bvadu\\AppData\\Roaming\\nltk_data...\n",
      "[nltk_data]   Package wordnet is already up-to-date!\n",
      "[nltk_data] Downloading package omw-1.4 to\n",
      "[nltk_data]     C:\\Users\\bvadu\\AppData\\Roaming\\nltk_data...\n"
     ]
    }
   ],
   "source": [
    "from nltk.stem import PorterStemmer, SnowballStemmer\n",
    "\n",
    "from nltk import WordNetLemmatizer\n",
    "\n",
    "nltk.download('wordnet')\n",
    "nltk.download('omw-1.4')\n",
    "\n",
    "ps = PorterStemmer()\n",
    "\n",
    "ss = SnowballStemmer('english')\n",
    "\n",
    "lemmatizer = WordNetLemmatizer()"
   ]
  },
  {
   "cell_type": "code",
   "execution_count": 15,
   "id": "07dbd7e3",
   "metadata": {},
   "outputs": [
    {
     "name": "stdout",
     "output_type": "stream",
     "text": [
      "[['do', 'still', 'need', 'help', 'issu', 'it', 'littl', 'sinc', 'post'], ['anyon'], ['ye', 'right', 'form', 'i', \"'m\", 'sorri', 'i', \"n't\", 'get', 'notif', 'question', 'today', 'i', \"'m\", 'go', 'check', 'system'], ['hi', 'you', 'make', 'good', 'point', 'the', 'differ', 'stock', 'bond', 'bank', 'regul', 'feder', 'govern', 'secur', 'exchang', 'commiss', 'they', 'follow', 'stringent', 'feder', 'regul', 'if', 'want', 'make', 'argument', 'judg', 'would', 'but', 'i', 'would', 'advis', \"'s\", 'better', 'posit', 'if', 'avoid', 'chang', 'say', 'would', \"n't\", 'no', 'one', 'hold', 'gun', 'head', 'make', 'play', 'game', 'spend', 'money', 'say', 'remark', 'you', 'alway', 'opt', 'find', 'differ', 'forum', 'express', 'or', 'could', 'decid', 'invest', 'money', 'game', 'think', \"'s\", 'riski', 'invest'], ['my', 'father', 'pas', 'away', 'i', 'dna', 'test', 'result', 'one', 'sister', 'i', 'would', 'like', 'inherit', 'nativ', 'dividend', 'birth', 'certif', 'way', 'get', 'proof', 'biolog', 'father', 'i', 'get', 'nativ', 'dividend'], ['i', 'call', 't-mobil', 'ask', 'get', 'copi', 'threaten', 'text', 'messag', 'sent', 'oct.', \"'t\", 'keep', 'text', 'messag', 'file', 'do', \"n't\", 'law', 'i', 'feel', 'fabric'], ['they', 'correct', 'most', 'provid', 'save', 'content', 'text', 'messag', 'sent', 'reciev', 'custom', 'there', 'law', 'requir', 'they', 'may', 'time', 'date', 'text', 'sent', 'ed', 'if', 'pay', 'text', 'messag', 'probabl', 'inform', 'if', 'pay', 'fee', 'unlimit', 'text', 'probabl', 'save', 't-mobil', 'might', 'tower', 'locat', 'inform', 'custom', 'text', 'usual', 'tower', 'locat', 'inform', 'avail', 'subpoena', 'technic', 'would', 'need', 'expert', 'wit', 'analyz', 'data', 'the', 'practic', 'way', 'get', 'copi', 'content', 'text', 'messag', 'see', 'save', 'phone', 'sent', 'reciev', 'do', 'save', 'phone', 'if', 'take', 'screenshot', 'print', 'preserv', 'print', 'copi', 'enter', 'evid', 'court', 'you', 'could', 'also', 'tri', 'subpoena', 'phone', 'person', 'sent', 'may', 'delet', 'good', 'luck'], ['okay', 'thank-you', 'much', 'clarif'], ['the', 'car', 'got', 'impound', 'threaten', 'what'], ['i', \"'m\", 'tri', 'regist', 'box', 'truck', 'motorhom', 'i', 'know', 'possibl', 'done', 'other', 'dmv', 'said', 'wo', \"n't\", 'allow', 'vehicl', 'weigh', '10', 'the', 'relev', 'statut', 'a', \"n't\", 'say', 'anyth', 'weight', 'motor', 'home', 'so', 'i', 'get', 'regist']]\n"
     ]
    }
   ],
   "source": [
    "sl_sentences = []\n",
    "\n",
    "for sent in cleaned_text:\n",
    "    temp_sent = []\n",
    "    for word in sent:\n",
    "        temp_word = ps.stem(word)\n",
    "        temp_word = lemmatizer.lemmatize(temp_word)\n",
    "        temp_sent.append(temp_word)\n",
    "    sl_sentences.append(temp_sent)\n",
    "\n",
    "print(sl_sentences[:10])"
   ]
  },
  {
   "cell_type": "code",
   "execution_count": 17,
   "id": "4c71b18e",
   "metadata": {},
   "outputs": [
    {
     "name": "stdout",
     "output_type": "stream",
     "text": [
      "['do', 'still', 'need', 'help', 'issu', 'it', 'littl', 'sinc', 'post', 'anyon']\n"
     ]
    }
   ],
   "source": [
    "word_freq = {}\n",
    "for sent in sl_sentences:\n",
    "    for word in sent:\n",
    "        if word not in word_freq:\n",
    "            word_freq[word] = 1\n",
    "        else:\n",
    "            word_freq[word] += 1\n",
    "\n",
    "print(list(word_freq.keys())[:10])"
   ]
  },
  {
   "cell_type": "code",
   "execution_count": 23,
   "id": "0761d576",
   "metadata": {},
   "outputs": [
    {
     "data": {
      "image/png": "[encoded data removed]",
      "text/plain": [
       "<Figure size 1000x600 with 1 Axes>"
      ]
     },
     "metadata": {},
     "output_type": "display_data"
    }
   ],
   "source": [
    "sorted_words = dict(sorted(word_freq.items(), key = lambda x : x[1], reverse = True))\n",
    "most_common_words = list(sorted_words.keys())[:20]\n",
    "most_common_words_freq = [sorted_words[temp] for temp in most_common_words]\n",
    "\n",
    "plt.figure(figsize = (10,6))\n",
    "sns.barplot(x = most_common_words, y = most_common_words_freq)\n",
    "plt.xticks(rotation=90, size = 10)\n",
    "plt.xlabel(\"Word Stem\", size = 14)\n",
    "plt.ylabel(\"Frequency in Question Text\", size = 14)\n",
    "plt.title(\"Most Frequent Word Stems in Question Posts\", size = 18)\n",
    "plt.subplots_adjust(bottom=0.15)\n",
    "plt.savefig('figures/mostcommonwords.png')\n",
    "plt.show()"
   ]
  },
  {
   "cell_type": "code",
   "execution_count": null,
   "id": "c7efddd7",
   "metadata": {},
   "outputs": [],
   "source": []
  }
 ],
 "metadata": {
  "kernelspec": {
   "display_name": "datafest2023",
   "language": "python",
   "name": "datafest2023"
  },
  "language_info": {
   "codemirror_mode": {
    "name": "ipython",
    "version": 3
   },
   "file_extension": ".py",
   "mimetype": "text/x-python",
   "name": "python",
   "nbconvert_exporter": "python",
   "pygments_lexer": "ipython3",
   "version": "3.10.10"
  }
 },
 "nbformat": 4,
 "nbformat_minor": 5
}
