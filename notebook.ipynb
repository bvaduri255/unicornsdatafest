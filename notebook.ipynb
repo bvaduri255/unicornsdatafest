{
 "cells": [
  {
   "cell_type": "code",
   "execution_count": 11,
   "metadata": {},
   "outputs": [],
   "source": [
    "import numpy as np\n",
    "import pandas as pd\n",
    "#import seaborn as sns"
   ]
  },
  {
   "cell_type": "code",
   "execution_count": 16,
   "metadata": {},
   "outputs": [],
   "source": [
    "attorneysFilePath = 'data/attorneys.csv'\n",
    "attorneyTimeFilePath = 'data/attorneytimeentries.csv'\n",
    "categoriesFilePath = 'data/categories.csv'\n",
    "clientsFilePath = 'data/clients.csv'\n",
    "qPostsFilePath = 'data/questionposts.csv'\n",
    "questionsFilePath = 'data/questions.csv'\n",
    "statesFilePath = 'data/statesites.csv'\n",
    "subCategoriesFilePath = 'data/subcategories.csv'"
   ]
  },
  {
   "cell_type": "code",
   "execution_count": 34,
   "metadata": {},
   "outputs": [
    {
     "name": "stdout",
     "output_type": "stream",
     "text": [
      "   Id StateAbbr                      Category\n",
      "0   1        NC           Family and Children\n",
      "1   2        NC             Individual Rights\n",
      "2   3        NC             Individual Rights\n",
      "3   4        NC           Family and Children\n",
      "4   5        NC  Consumer Financial Questions\n"
     ]
    }
   ],
   "source": [
    "questionsDF = pd.read_csv(questionsFilePath)\n",
    "questionsDF.drop(columns = [\"QuestionUno\", \"CategoryUno\", \"SubcategoryUno\", \"AskedByClientUno\", \"AskedOnUtc\", \"TakenByAttorneyUno\", \"TakenOnUtc\", \"ClosedByAttorneyUno\", \"ClosedOnUtc\", \"LegalDeadline\", \"Subcategory\"], inplace = True)\n",
    "print(questionsDF.head())"
   ]
  },
  {
   "cell_type": "code",
   "execution_count": 35,
   "metadata": {},
   "outputs": [],
   "source": [
    "categories = questionsDF[\"Category\"]\n",
    "frequencies = {}\n"
   ]
  }
 ],
 "metadata": {
  "kernelspec": {
   "display_name": "Python 3",
   "language": "python",
   "name": "python3"
  },
  "language_info": {
   "codemirror_mode": {
    "name": "ipython",
    "version": 3
   },
   "file_extension": ".py",
   "mimetype": "text/x-python",
   "name": "python",
   "nbconvert_exporter": "python",
   "pygments_lexer": "ipython3",
   "version": "3.10.1"
  },
  "orig_nbformat": 4,
  "vscode": {
   "interpreter": {
    "hash": "aee8b7b246df8f9039afb4144a1f6fd8d2ca17a180786b69acc140d282b71a49"
   }
  }
 },
 "nbformat": 4,
 "nbformat_minor": 2
}
