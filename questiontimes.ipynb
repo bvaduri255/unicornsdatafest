{
 "cells": [
  {
   "cell_type": "code",
   "execution_count": 1,
   "id": "809183db",
   "metadata": {},
   "outputs": [
    {
     "name": "stdout",
     "output_type": "stream",
     "text": [
      "Imports Done\n"
     ]
    }
   ],
   "source": [
    "import numpy as np\n",
    "import pandas as pd\n",
    "import seaborn as sns\n",
    "import time\n",
    "import matplotlib.pyplot as plt\n",
    "import datetime\n",
    "\n",
    "print(\"Imports Done\")"
   ]
  },
  {
   "cell_type": "code",
   "execution_count": 2,
   "id": "ce563234",
   "metadata": {},
   "outputs": [
    {
     "name": "stdout",
     "output_type": "stream",
     "text": [
      "Read csv with chunks:  0.02199578285217285 sec\n"
     ]
    },
    {
     "data": {
      "text/html": [
       "<div>\n",
       "<style scoped>\n",
       "    .dataframe tbody tr th:only-of-type {\n",
       "        vertical-align: middle;\n",
       "    }\n",
       "\n",
       "    .dataframe tbody tr th {\n",
       "        vertical-align: top;\n",
       "    }\n",
       "\n",
       "    .dataframe thead th {\n",
       "        text-align: right;\n",
       "    }\n",
       "</style>\n",
       "<table border=\"1\" class=\"dataframe\">\n",
       "  <thead>\n",
       "    <tr style=\"text-align: right;\">\n",
       "      <th></th>\n",
       "      <th>Id</th>\n",
       "      <th>StateAbbr</th>\n",
       "      <th>QuestionUno</th>\n",
       "      <th>CategoryUno</th>\n",
       "      <th>Category</th>\n",
       "      <th>SubcategoryUno</th>\n",
       "      <th>Subcategory</th>\n",
       "      <th>AskedByClientUno</th>\n",
       "      <th>AskedOnUtc</th>\n",
       "      <th>TakenByAttorneyUno</th>\n",
       "      <th>TakenOnUtc</th>\n",
       "      <th>ClosedByAttorneyUno</th>\n",
       "      <th>ClosedOnUtc</th>\n",
       "      <th>LegalDeadline</th>\n",
       "    </tr>\n",
       "  </thead>\n",
       "  <tbody>\n",
       "    <tr>\n",
       "      <th>0</th>\n",
       "      <td>1</td>\n",
       "      <td>NC</td>\n",
       "      <td>BB53B2A4-7C1B-45C3-9693-62047889317D</td>\n",
       "      <td>C932D197-7F43-4BCF-BE0B-FE5F5DBCB9EF</td>\n",
       "      <td>Family and Children</td>\n",
       "      <td>E9F87919-0CD5-4D9D-AAC6-3CBC49132F1D</td>\n",
       "      <td>Family/Divorce/Custody/Visitation/Child Support</td>\n",
       "      <td>9C35423C-914A-42BC-8EBC-A370E76E2178</td>\n",
       "      <td>2019-06-19 22:10:06</td>\n",
       "      <td>NaN</td>\n",
       "      <td>NaN</td>\n",
       "      <td>NaN</td>\n",
       "      <td>2019-08-13 15:09:06</td>\n",
       "      <td>2019-07-08 00:00:00</td>\n",
       "    </tr>\n",
       "    <tr>\n",
       "      <th>1</th>\n",
       "      <td>2</td>\n",
       "      <td>NC</td>\n",
       "      <td>0C49F841-2782-4313-961E-7882B96D0854</td>\n",
       "      <td>C8E1275A-6C42-42E4-9B7D-231BAC438FC9</td>\n",
       "      <td>Individual Rights</td>\n",
       "      <td>73A59926-BA0B-44EC-ABF3-F4C9181EEA83</td>\n",
       "      <td>Civil/Constitutional Rights</td>\n",
       "      <td>DF636AEE-7D08-4F90-9A5C-0A2A726C6B59</td>\n",
       "      <td>2019-06-19 23:34:36</td>\n",
       "      <td>NaN</td>\n",
       "      <td>NaN</td>\n",
       "      <td>NaN</td>\n",
       "      <td>2019-08-13 15:09:14</td>\n",
       "      <td>NaN</td>\n",
       "    </tr>\n",
       "    <tr>\n",
       "      <th>2</th>\n",
       "      <td>3</td>\n",
       "      <td>NC</td>\n",
       "      <td>BFC28E08-B6B1-4185-A91A-89DF90816BE4</td>\n",
       "      <td>C8E1275A-6C42-42E4-9B7D-231BAC438FC9</td>\n",
       "      <td>Individual Rights</td>\n",
       "      <td>73A59926-BA0B-44EC-ABF3-F4C9181EEA83</td>\n",
       "      <td>Civil/Constitutional Rights</td>\n",
       "      <td>DF636AEE-7D08-4F90-9A5C-0A2A726C6B59</td>\n",
       "      <td>2019-06-19 23:57:18</td>\n",
       "      <td>FA34142B-1575-4720-981C-2D28C3560137</td>\n",
       "      <td>2019-06-22 02:37:16</td>\n",
       "      <td>FA34142B-1575-4720-981C-2D28C3560137</td>\n",
       "      <td>2019-06-24 19:02:35</td>\n",
       "      <td>NaN</td>\n",
       "    </tr>\n",
       "    <tr>\n",
       "      <th>3</th>\n",
       "      <td>4</td>\n",
       "      <td>NC</td>\n",
       "      <td>45B24109-243A-489B-B0D2-2F36C2A369FE</td>\n",
       "      <td>C932D197-7F43-4BCF-BE0B-FE5F5DBCB9EF</td>\n",
       "      <td>Family and Children</td>\n",
       "      <td>E9F87919-0CD5-4D9D-AAC6-3CBC49132F1D</td>\n",
       "      <td>Family/Divorce/Custody/Visitation/Child Support</td>\n",
       "      <td>C9C3FA40-0D60-49B9-97F1-63AFEFAFA484</td>\n",
       "      <td>2019-06-20 02:33:14</td>\n",
       "      <td>FA34142B-1575-4720-981C-2D28C3560137</td>\n",
       "      <td>2019-07-27 18:04:08</td>\n",
       "      <td>FA34142B-1575-4720-981C-2D28C3560137</td>\n",
       "      <td>2019-07-31 05:49:18</td>\n",
       "      <td>NaN</td>\n",
       "    </tr>\n",
       "    <tr>\n",
       "      <th>4</th>\n",
       "      <td>5</td>\n",
       "      <td>NC</td>\n",
       "      <td>C4707F71-FE4A-4154-8174-AF00BEE2B361</td>\n",
       "      <td>F6016FBD-9501-4448-BCD3-BBB0E834E33B</td>\n",
       "      <td>Consumer Financial Questions</td>\n",
       "      <td>73FE486E-2B51-456A-A6D9-78A7D05802AA</td>\n",
       "      <td>Bankruptcy, Debts &amp; Purchases</td>\n",
       "      <td>ED7DEA10-CDB7-4A05-891D-889D1EA710BE</td>\n",
       "      <td>2019-06-20 17:04:47</td>\n",
       "      <td>NaN</td>\n",
       "      <td>NaN</td>\n",
       "      <td>NaN</td>\n",
       "      <td>2019-08-13 15:09:20</td>\n",
       "      <td>NaN</td>\n",
       "    </tr>\n",
       "  </tbody>\n",
       "</table>\n",
       "</div>"
      ],
      "text/plain": [
       "   Id StateAbbr                           QuestionUno  \\\n",
       "0   1        NC  BB53B2A4-7C1B-45C3-9693-62047889317D   \n",
       "1   2        NC  0C49F841-2782-4313-961E-7882B96D0854   \n",
       "2   3        NC  BFC28E08-B6B1-4185-A91A-89DF90816BE4   \n",
       "3   4        NC  45B24109-243A-489B-B0D2-2F36C2A369FE   \n",
       "4   5        NC  C4707F71-FE4A-4154-8174-AF00BEE2B361   \n",
       "\n",
       "                            CategoryUno                      Category  \\\n",
       "0  C932D197-7F43-4BCF-BE0B-FE5F5DBCB9EF           Family and Children   \n",
       "1  C8E1275A-6C42-42E4-9B7D-231BAC438FC9             Individual Rights   \n",
       "2  C8E1275A-6C42-42E4-9B7D-231BAC438FC9             Individual Rights   \n",
       "3  C932D197-7F43-4BCF-BE0B-FE5F5DBCB9EF           Family and Children   \n",
       "4  F6016FBD-9501-4448-BCD3-BBB0E834E33B  Consumer Financial Questions   \n",
       "\n",
       "                         SubcategoryUno  \\\n",
       "0  E9F87919-0CD5-4D9D-AAC6-3CBC49132F1D   \n",
       "1  73A59926-BA0B-44EC-ABF3-F4C9181EEA83   \n",
       "2  73A59926-BA0B-44EC-ABF3-F4C9181EEA83   \n",
       "3  E9F87919-0CD5-4D9D-AAC6-3CBC49132F1D   \n",
       "4  73FE486E-2B51-456A-A6D9-78A7D05802AA   \n",
       "\n",
       "                                       Subcategory  \\\n",
       "0  Family/Divorce/Custody/Visitation/Child Support   \n",
       "1                      Civil/Constitutional Rights   \n",
       "2                      Civil/Constitutional Rights   \n",
       "3  Family/Divorce/Custody/Visitation/Child Support   \n",
       "4                    Bankruptcy, Debts & Purchases   \n",
       "\n",
       "                       AskedByClientUno           AskedOnUtc  \\\n",
       "0  9C35423C-914A-42BC-8EBC-A370E76E2178  2019-06-19 22:10:06   \n",
       "1  DF636AEE-7D08-4F90-9A5C-0A2A726C6B59  2019-06-19 23:34:36   \n",
       "2  DF636AEE-7D08-4F90-9A5C-0A2A726C6B59  2019-06-19 23:57:18   \n",
       "3  C9C3FA40-0D60-49B9-97F1-63AFEFAFA484  2019-06-20 02:33:14   \n",
       "4  ED7DEA10-CDB7-4A05-891D-889D1EA710BE  2019-06-20 17:04:47   \n",
       "\n",
       "                     TakenByAttorneyUno           TakenOnUtc  \\\n",
       "0                                   NaN                  NaN   \n",
       "1                                   NaN                  NaN   \n",
       "2  FA34142B-1575-4720-981C-2D28C3560137  2019-06-22 02:37:16   \n",
       "3  FA34142B-1575-4720-981C-2D28C3560137  2019-07-27 18:04:08   \n",
       "4                                   NaN                  NaN   \n",
       "\n",
       "                    ClosedByAttorneyUno          ClosedOnUtc  \\\n",
       "0                                   NaN  2019-08-13 15:09:06   \n",
       "1                                   NaN  2019-08-13 15:09:14   \n",
       "2  FA34142B-1575-4720-981C-2D28C3560137  2019-06-24 19:02:35   \n",
       "3  FA34142B-1575-4720-981C-2D28C3560137  2019-07-31 05:49:18   \n",
       "4                                   NaN  2019-08-13 15:09:20   \n",
       "\n",
       "         LegalDeadline  \n",
       "0  2019-07-08 00:00:00  \n",
       "1                  NaN  \n",
       "2                  NaN  \n",
       "3                  NaN  \n",
       "4                  NaN  "
      ]
     },
     "execution_count": 2,
     "metadata": {},
     "output_type": "execute_result"
    }
   ],
   "source": [
    "start = time.time()\n",
    "chunk = pd.read_csv('data/questions.csv', chunksize=10000, on_bad_lines='skip')\n",
    "end = time.time()\n",
    "print(\"Read csv with chunks: \",(end-start),\"sec\")\n",
    "question_df = pd.concat(chunk)\n",
    "\n",
    "question_df.head()"
   ]
  },
  {
   "cell_type": "code",
   "execution_count": 3,
   "id": "5fac80ad",
   "metadata": {},
   "outputs": [
    {
     "name": "stdout",
     "output_type": "stream",
     "text": [
      "2019-06-19 22:10:06\n",
      "2019-06-19 00:00:00\n"
     ]
    }
   ],
   "source": [
    "test = question_df[\"AskedOnUtc\"][0]\n",
    "test = str(test)\n",
    "print(test)\n",
    "def convert_time(stringy):\n",
    "    date_time = stringy.split(\" \")\n",
    "    date_time[0] = date_time[0].split('-')\n",
    "    #print(date_time)\n",
    "    output = datetime.datetime(int(date_time[0][0]), int(date_time[0][1]), int(date_time[0][2]))\n",
    "    return output\n",
    "\n",
    "print(convert_time(test))"
   ]
  },
  {
   "cell_type": "code",
   "execution_count": 93,
   "id": "0c4ad3b0",
   "metadata": {},
   "outputs": [],
   "source": [
    "open_times = question_df[\"AskedOnUtc\"]\n",
    "taken_on_times = question_df[\"TakenOnUtc\"]\n",
    "closed_times = question_df[\"ClosedOnUtc\"]"
   ]
  },
  {
   "cell_type": "code",
   "execution_count": 94,
   "id": "75e5158a",
   "metadata": {},
   "outputs": [
    {
     "name": "stdout",
     "output_type": "stream",
     "text": [
      "202879\n",
      "202879\n",
      "202879\n",
      "0\n",
      "5000\n",
      "10000\n",
      "15000\n",
      "20000\n",
      "25000\n",
      "30000\n",
      "35000\n",
      "40000\n",
      "45000\n",
      "50000\n",
      "55000\n",
      "60000\n",
      "65000\n",
      "70000\n",
      "75000\n",
      "80000\n",
      "85000\n",
      "90000\n",
      "95000\n",
      "100000\n",
      "105000\n",
      "110000\n",
      "115000\n",
      "120000\n",
      "125000\n",
      "130000\n",
      "135000\n",
      "140000\n",
      "145000\n",
      "150000\n",
      "155000\n",
      "160000\n",
      "165000\n",
      "170000\n",
      "175000\n",
      "180000\n",
      "185000\n",
      "190000\n",
      "195000\n",
      "200000\n"
     ]
    }
   ],
   "source": [
    "ask_to_take = []\n",
    "take_to_close = []\n",
    "ask_to_close = []\n",
    "\n",
    "print(len(open_times))\n",
    "print(len(taken_on_times))\n",
    "print(len(closed_times))\n",
    "num_times = len(open_times)\n",
    "\n",
    "for i in range(num_times):\n",
    "    temp_open = str(open_times[i])\n",
    "    temp_taken = str(taken_on_times[i])\n",
    "    temp_close = str(closed_times[i])\n",
    "    \n",
    "    if (temp_open.lower() != \"nan\" and temp_taken.lower() != \"nan\"):\n",
    "        open_dt = convert_time(temp_open)\n",
    "        taken_dt = convert_time(temp_taken)\n",
    "        ask_to_take.append(int((taken_dt - open_dt).total_seconds() / 86400))\n",
    "    \n",
    "    if (temp_taken.lower() != \"nan\" and temp_close.lower() != \"nan\"):\n",
    "        taken_dt = convert_time(temp_taken)\n",
    "        close_dt = convert_time(temp_close)\n",
    "        take_to_close.append(int((close_dt - taken_dt).total_seconds() / 86400))\n",
    "    \n",
    "    if (temp_open.lower() != \"nan\" and temp_close.lower() != \"nan\"):\n",
    "        open_dt = convert_time(temp_open)\n",
    "        close_dt = convert_time(temp_close)\n",
    "        ask_to_close.append(int((close_dt - open_dt).total_seconds() / 86400))\n",
    "    if (i % 5000 == 0):\n",
    "        print(i)\n",
    "        \n",
    "    "
   ]
  },
  {
   "cell_type": "code",
   "execution_count": 95,
   "id": "2f689bc0",
   "metadata": {},
   "outputs": [
    {
     "name": "stdout",
     "output_type": "stream",
     "text": [
      "2531\n"
     ]
    }
   ],
   "source": [
    "print(max(ask_to_close))"
   ]
  },
  {
   "cell_type": "code",
   "execution_count": 96,
   "id": "8634d0c5",
   "metadata": {},
   "outputs": [
    {
     "data": {
      "text/plain": [
       "<Figure size 1000x600 with 0 Axes>"
      ]
     },
     "metadata": {},
     "output_type": "display_data"
    },
    {
     "data": {
      "image/png": "[encoded data removed]",
      "text/plain": [
       "<Figure size 640x480 with 1 Axes>"
      ]
     },
     "metadata": {},
     "output_type": "display_data"
    }
   ],
   "source": [
    "plt.figure(figsize = (10,6))\n",
    "fig, ax = plt.subplots()\n",
    "\n",
    "sns.set_style()\n",
    "sns.histplot(data = ask_to_close, bins = 100)\n",
    "ax.set_xlim(1, 350)\n",
    "plt.xlabel(\"Time (in Days)\")\n",
    "plt.ylabel(\"Count\")\n",
    "plt.title(\"Distribution of Open to Closing Times\")\n",
    "plt.savefig(\"figures/OpenToCloseDist.png\")\n",
    "plt.show()"
   ]
  },
  {
   "cell_type": "code",
   "execution_count": 97,
   "id": "154f4981",
   "metadata": {},
   "outputs": [
    {
     "data": {
      "text/plain": [
       "<Figure size 1000x600 with 0 Axes>"
      ]
     },
     "metadata": {},
     "output_type": "display_data"
    },
    {
     "data": {
      "image/png": "[encoded data removed]",
      "text/plain": [
       "<Figure size 640x480 with 1 Axes>"
      ]
     },
     "metadata": {},
     "output_type": "display_data"
    }
   ],
   "source": [
    "plt.figure(figsize = (10,6))\n",
    "fig, ax = plt.subplots()\n",
    "\n",
    "sns.set_style()\n",
    "sns.histplot(data = ask_to_take, bins = 75)\n",
    "ax.set_xlim(1, 50)\n",
    "plt.xlabel(\"Time (in Days)\")\n",
    "plt.ylabel(\"Count\")\n",
    "plt.title(\"Distribution of Open to Pick-Up Times\")\n",
    "plt.savefig(\"figures/OpenToTakeDist.png\")\n",
    "plt.show()"
   ]
  },
  {
   "cell_type": "code",
   "execution_count": 98,
   "id": "daf47fd3",
   "metadata": {},
   "outputs": [
    {
     "data": {
      "text/plain": [
       "<Figure size 1000x600 with 0 Axes>"
      ]
     },
     "metadata": {},
     "output_type": "display_data"
    },
    {
     "data": {
      "image/png": "[encoded data removed]",
      "text/plain": [
       "<Figure size 640x480 with 1 Axes>"
      ]
     },
     "metadata": {},
     "output_type": "display_data"
    }
   ],
   "source": [
    "plt.figure(figsize = (10,6))\n",
    "fig, ax = plt.subplots()\n",
    "\n",
    "sns.set_style()\n",
    "sns.histplot(data = take_to_close, bins = 100)\n",
    "ax.set_xlim(0, 250)\n",
    "plt.xlabel(\"Time (in Days)\")\n",
    "plt.ylabel(\"Count\")\n",
    "plt.title(\"Distribution of Pick-Up to Close Times\")\n",
    "plt.savefig(\"figures/TakeToCloseDist.png\")\n",
    "plt.show()"
   ]
  },
  {
   "cell_type": "code",
   "execution_count": 99,
   "id": "ff39f125",
   "metadata": {},
   "outputs": [],
   "source": [
    "def print_stats(listy):\n",
    "    avg = sum(listy) / len(listy)\n",
    "    mini = min(listy)\n",
    "    maxi = max(listy)\n",
    "    print(\"Average: \", avg)\n",
    "    print(\"Minimum: \", mini)\n",
    "    print(\"Maximum: \", maxi)"
   ]
  },
  {
   "cell_type": "code",
   "execution_count": 100,
   "id": "10845067",
   "metadata": {},
   "outputs": [
    {
     "name": "stdout",
     "output_type": "stream",
     "text": [
      "Average:  10.033552807739047\n",
      "Minimum:  0\n",
      "Maximum:  375\n",
      "----------------\n",
      "Average:  8.520690369347601\n",
      "Minimum:  -15\n",
      "Maximum:  2504\n",
      "----------------\n",
      "Average:  26.189627546023054\n",
      "Minimum:  0\n",
      "Maximum:  2531\n"
     ]
    }
   ],
   "source": [
    "print_stats(ask_to_take)\n",
    "print(\"----------------\")\n",
    "print_stats(take_to_close)\n",
    "print(\"----------------\")\n",
    "print_stats(ask_to_close)"
   ]
  },
  {
   "cell_type": "code",
   "execution_count": null,
   "id": "cb36269f",
   "metadata": {},
   "outputs": [],
   "source": []
  }
 ],
 "metadata": {
  "kernelspec": {
   "display_name": "datafest2023",
   "language": "python",
   "name": "datafest2023"
  },
  "language_info": {
   "codemirror_mode": {
    "name": "ipython",
    "version": 3
   },
   "file_extension": ".py",
   "mimetype": "text/x-python",
   "name": "python",
   "nbconvert_exporter": "python",
   "pygments_lexer": "ipython3",
   "version": "3.10.10"
  }
 },
 "nbformat": 4,
 "nbformat_minor": 5
}
